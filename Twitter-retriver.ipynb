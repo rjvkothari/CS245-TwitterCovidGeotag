{
 "cells": [
  {
   "cell_type": "code",
   "execution_count": 1,
   "id": "cdb64b16-f8cd-4ee2-b281-c4fbf99cc806",
   "metadata": {},
   "outputs": [
    {
     "name": "stdout",
     "output_type": "stream",
     "text": [
      "Requirement already satisfied: twarc in /Library/Frameworks/Python.framework/Versions/3.10/lib/python3.10/site-packages (2.8.0)\n",
      "Requirement already satisfied: click-config-file>=0.6 in /Library/Frameworks/Python.framework/Versions/3.10/lib/python3.10/site-packages (from twarc) (0.6.0)\n",
      "Requirement already satisfied: click<9,>=7 in /Library/Frameworks/Python.framework/Versions/3.10/lib/python3.10/site-packages (from twarc) (8.0.3)\n",
      "Requirement already satisfied: humanize>=3.9 in /Library/Frameworks/Python.framework/Versions/3.10/lib/python3.10/site-packages (from twarc) (3.12.0)\n",
      "Requirement already satisfied: requests-oauthlib>=1.3 in /Library/Frameworks/Python.framework/Versions/3.10/lib/python3.10/site-packages (from twarc) (1.3.0)\n",
      "Requirement already satisfied: tqdm>=4.62 in /Library/Frameworks/Python.framework/Versions/3.10/lib/python3.10/site-packages (from twarc) (4.62.3)\n",
      "Requirement already satisfied: click-plugins>=1 in /Library/Frameworks/Python.framework/Versions/3.10/lib/python3.10/site-packages (from twarc) (1.1.1)\n",
      "Requirement already satisfied: python-dateutil>=2.8 in /Library/Frameworks/Python.framework/Versions/3.10/lib/python3.10/site-packages (from twarc) (2.8.2)\n",
      "Requirement already satisfied: configobj>=5.0.6 in /Library/Frameworks/Python.framework/Versions/3.10/lib/python3.10/site-packages (from click-config-file>=0.6->twarc) (5.0.6)\n",
      "Requirement already satisfied: six in /Library/Frameworks/Python.framework/Versions/3.10/lib/python3.10/site-packages (from configobj>=5.0.6->click-config-file>=0.6->twarc) (1.16.0)\n",
      "Requirement already satisfied: setuptools in /Library/Frameworks/Python.framework/Versions/3.10/lib/python3.10/site-packages (from humanize>=3.9->twarc) (57.4.0)\n",
      "Requirement already satisfied: requests>=2.0.0 in /Library/Frameworks/Python.framework/Versions/3.10/lib/python3.10/site-packages (from requests-oauthlib>=1.3->twarc) (2.26.0)\n",
      "Requirement already satisfied: oauthlib>=3.0.0 in /Library/Frameworks/Python.framework/Versions/3.10/lib/python3.10/site-packages (from requests-oauthlib>=1.3->twarc) (3.1.1)\n",
      "Requirement already satisfied: certifi>=2017.4.17 in /Library/Frameworks/Python.framework/Versions/3.10/lib/python3.10/site-packages (from requests>=2.0.0->requests-oauthlib>=1.3->twarc) (2021.10.8)\n",
      "Requirement already satisfied: idna<4,>=2.5 in /Library/Frameworks/Python.framework/Versions/3.10/lib/python3.10/site-packages (from requests>=2.0.0->requests-oauthlib>=1.3->twarc) (3.3)\n",
      "Requirement already satisfied: urllib3<1.27,>=1.21.1 in /Library/Frameworks/Python.framework/Versions/3.10/lib/python3.10/site-packages (from requests>=2.0.0->requests-oauthlib>=1.3->twarc) (1.26.7)\n",
      "Requirement already satisfied: charset-normalizer~=2.0.0 in /Library/Frameworks/Python.framework/Versions/3.10/lib/python3.10/site-packages (from requests>=2.0.0->requests-oauthlib>=1.3->twarc) (2.0.7)\n",
      "\u001b[33mWARNING: You are using pip version 21.2.3; however, version 21.3.1 is available.\n",
      "You should consider upgrading via the '/Library/Frameworks/Python.framework/Versions/3.10/bin/python3.10 -m pip install --upgrade pip' command.\u001b[0m\n",
      "Requirement already satisfied: tweepy in /Library/Frameworks/Python.framework/Versions/3.10/lib/python3.10/site-packages (4.3.0)\n",
      "Requirement already satisfied: requests<3,>=2.11.1 in /Library/Frameworks/Python.framework/Versions/3.10/lib/python3.10/site-packages (from tweepy) (2.26.0)\n",
      "Requirement already satisfied: requests-oauthlib<2,>=1.0.0 in /Library/Frameworks/Python.framework/Versions/3.10/lib/python3.10/site-packages (from tweepy) (1.3.0)\n",
      "Requirement already satisfied: idna<4,>=2.5 in /Library/Frameworks/Python.framework/Versions/3.10/lib/python3.10/site-packages (from requests<3,>=2.11.1->tweepy) (3.3)\n",
      "Requirement already satisfied: urllib3<1.27,>=1.21.1 in /Library/Frameworks/Python.framework/Versions/3.10/lib/python3.10/site-packages (from requests<3,>=2.11.1->tweepy) (1.26.7)\n",
      "Requirement already satisfied: certifi>=2017.4.17 in /Library/Frameworks/Python.framework/Versions/3.10/lib/python3.10/site-packages (from requests<3,>=2.11.1->tweepy) (2021.10.8)\n",
      "Requirement already satisfied: charset-normalizer~=2.0.0 in /Library/Frameworks/Python.framework/Versions/3.10/lib/python3.10/site-packages (from requests<3,>=2.11.1->tweepy) (2.0.7)\n",
      "Requirement already satisfied: oauthlib>=3.0.0 in /Library/Frameworks/Python.framework/Versions/3.10/lib/python3.10/site-packages (from requests-oauthlib<2,>=1.0.0->tweepy) (3.1.1)\n",
      "\u001b[33mWARNING: You are using pip version 21.2.3; however, version 21.3.1 is available.\n",
      "You should consider upgrading via the '/Library/Frameworks/Python.framework/Versions/3.10/bin/python3.10 -m pip install --upgrade pip' command.\u001b[0m\n",
      "Collecting argparse\n",
      "  Using cached argparse-1.4.0-py2.py3-none-any.whl (23 kB)\n",
      "Installing collected packages: argparse\n",
      "Successfully installed argparse-1.4.0\n",
      "\u001b[33mWARNING: You are using pip version 21.2.3; however, version 21.3.1 is available.\n",
      "You should consider upgrading via the '/Library/Frameworks/Python.framework/Versions/3.10/bin/python3.10 -m pip install --upgrade pip' command.\u001b[0m\n",
      "Requirement already satisfied: xtract in /Library/Frameworks/Python.framework/Versions/3.10/lib/python3.10/site-packages (0.1a3)\n",
      "Requirement already satisfied: python-magic in /Library/Frameworks/Python.framework/Versions/3.10/lib/python3.10/site-packages (from xtract) (0.4.24)\n",
      "\u001b[33mWARNING: You are using pip version 21.2.3; however, version 21.3.1 is available.\n",
      "You should consider upgrading via the '/Library/Frameworks/Python.framework/Versions/3.10/bin/python3.10 -m pip install --upgrade pip' command.\u001b[0m\n",
      "Requirement already satisfied: wget in /Library/Frameworks/Python.framework/Versions/3.10/lib/python3.10/site-packages (3.2)\n",
      "\u001b[33mWARNING: You are using pip version 21.2.3; however, version 21.3.1 is available.\n",
      "You should consider upgrading via the '/Library/Frameworks/Python.framework/Versions/3.10/bin/python3.10 -m pip install --upgrade pip' command.\u001b[0m\n"
     ]
    }
   ],
   "source": [
    "from IPython.display import clear_output\n",
    "!pip3 install twarc #Twarc\n",
    "!pip3 install tweepy # Tweepy 3.8.0\n",
    "!pip3 install argparse #Argparse 3.2\n",
    "!pip3 install xtract #Xtract 0.1 a3\n",
    "!pip3 install wget #Wget 3.2"
   ]
  },
  {
   "cell_type": "code",
   "execution_count": 2,
   "id": "467a65c3-b613-4cb3-ac74-d09a0475140b",
   "metadata": {},
   "outputs": [
    {
     "name": "stdout",
     "output_type": "stream",
     "text": [
      "100% [......................................................] 4168582 / 4168582"
     ]
    },
    {
     "data": {
      "application/vnd.jupyter.widget-view+json": {
       "model_id": "d2a903bdc39047d7ad1fb0084602f0f6",
       "version_major": 2,
       "version_minor": 0
      },
      "text/plain": [
       "Dropdown(options=('all', 'am', 'ar', 'bg', 'bn', 'bo', 'ca', 'ckb', 'cs', 'cy', 'da', 'de', 'dv', 'el', 'en', …"
      ]
     },
     "metadata": {},
     "output_type": "display_data"
    }
   ],
   "source": [
    "import gzip\n",
    "import shutil\n",
    "import os\n",
    "import wget\n",
    "import csv\n",
    "import linecache\n",
    "from shutil import copyfile\n",
    "import ipywidgets as widgets\n",
    "import numpy as np\n",
    "import pandas as pd\n",
    "\n",
    "#add the Github URL directly for the dailies you need\n",
    "dataset_URL = \"https://github.com/thepanacealab/covid19_twitter/blob/master/dailies/2021-01-20/2021-01-20_clean-dataset.tsv.gz?raw=true\" \n",
    "\n",
    "\n",
    "#Downloads the dataset (compressed in a GZ format)\n",
    "#!wget dataset_URL -O clean-dataset.tsv.gz\n",
    "wget.download(dataset_URL, out='clean-dataset.tsv.gz')\n",
    "\n",
    "#Unzips the dataset and gets the TSV dataset\n",
    "with gzip.open('clean-dataset.tsv.gz', 'rb') as f_in:\n",
    "    with open('clean-dataset.tsv', 'wb') as f_out:\n",
    "        shutil.copyfileobj(f_in, f_out)\n",
    "\n",
    "#Deletes the compressed GZ file\n",
    "os.unlink(\"clean-dataset.tsv.gz\")\n",
    "\n",
    "#Gets all possible languages from the dataset\n",
    "df = pd.read_csv('clean-dataset.tsv',sep=\"\\t\")\n",
    "lang_list = df.lang.unique()\n",
    "lang_list= sorted(np.append(lang_list,'all'))\n",
    "lang_picker = widgets.Dropdown(options=lang_list, value=\"all\")\n",
    "lang_picker"
   ]
  },
  {
   "cell_type": "code",
   "execution_count": 3,
   "id": "14434224-6bcb-4289-b7a3-8ba5d92983c7",
   "metadata": {},
   "outputs": [
    {
     "name": "stdout",
     "output_type": "stream",
     "text": [
      "\u001b[1mShowing first 5 tweets from the filtered dataset\u001b[0m\n",
      "['1351757442653294592\\t2021-01-20\\t05:04:23\\ten\\tNULL\\n', '1351757444033069056\\t2021-01-20\\t05:04:23\\ten\\tNULL\\n', '1351757446860083202\\t2021-01-20\\t05:04:24\\ten\\tNULL\\n', '1351757447619375106\\t2021-01-20\\t05:04:24\\ten\\tNULL\\n', '1351757448219140105\\t2021-01-20\\t05:04:24\\ten\\tNULL\\n']\n"
     ]
    }
   ],
   "source": [
    "#Creates a new clean dataset with the specified language (if specified)\n",
    "filtered_language = lang_picker.value\n",
    "\n",
    "#If no language specified, it will get all records from the dataset\n",
    "if filtered_language == \"\":\n",
    "  copyfile('clean-dataset.tsv', 'clean-dataset-filtered.tsv')\n",
    "\n",
    "#If language specified, it will create another tsv file with the filtered records\n",
    "else:\n",
    "  filtered_tw = list()\n",
    "  current_line = 1\n",
    "  with open(\"clean-dataset.tsv\") as tsvfile:\n",
    "    tsvreader = csv.reader(tsvfile, delimiter=\"\\t\")\n",
    "\n",
    "    if current_line == 1:\n",
    "      filtered_tw.append(linecache.getline(\"clean-dataset.tsv\", current_line))\n",
    "\n",
    "      for line in tsvreader:\n",
    "        if line[3] == filtered_language:\n",
    "          filtered_tw.append(linecache.getline(\"clean-dataset.tsv\", current_line))\n",
    "        current_line += 1\n",
    "\n",
    "  print('\\033[1mShowing first 5 tweets from the filtered dataset\\033[0m')\n",
    "  print(filtered_tw[1:(6 if len(filtered_tw) > 6 else len(filtered_tw))])\n",
    "\n",
    "  with open('clean-dataset-filtered.tsv', 'w') as f_output:\n",
    "      for item in filtered_tw:\n",
    "          f_output.write(item)"
   ]
  },
  {
   "cell_type": "code",
   "execution_count": 5,
   "id": "f33bde44-53c1-473a-b71c-69bbf195382d",
   "metadata": {},
   "outputs": [
    {
     "name": "stdout",
     "output_type": "stream",
     "text": [
      "Your twitter api credentials are valid.\n",
      "hydrated_tweets\n",
      "tab seperated file, using \\t delimiter\n",
      "total ids: 201374\n",
      "metadata collection complete\n",
      "creating master json file\n",
      "currently getting 88 - 188\n",
      "creating ziped master json file\n",
      "creating minimized json master file\n",
      "creating CSV version of minimized json master file\n"
     ]
    }
   ],
   "source": [
    "!python3 get_metadata.py -i clean-dataset-filtered.tsv -o hydrated_tweets -k api_keys.json\n"
   ]
  },
  {
   "cell_type": "code",
   "execution_count": null,
   "id": "4c916cc7-9d18-42ee-8925-a52ae68e9282",
   "metadata": {},
   "outputs": [],
   "source": []
  }
 ],
 "metadata": {
  "kernelspec": {
   "display_name": "Python 3 (ipykernel)",
   "language": "python",
   "name": "python3"
  },
  "language_info": {
   "codemirror_mode": {
    "name": "ipython",
    "version": 3
   },
   "file_extension": ".py",
   "mimetype": "text/x-python",
   "name": "python",
   "nbconvert_exporter": "python",
   "pygments_lexer": "ipython3",
   "version": "3.10.0"
  }
 },
 "nbformat": 4,
 "nbformat_minor": 5
}
