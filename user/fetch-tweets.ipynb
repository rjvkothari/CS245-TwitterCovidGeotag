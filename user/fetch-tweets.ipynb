{
 "cells": [
  {
   "cell_type": "code",
   "execution_count": 5,
   "id": "c3d35ebd",
   "metadata": {},
   "outputs": [],
   "source": [
    "# For sending GET requests from the API\n",
    "import requests\n",
    "# For dealing with json responses we receive from the API\n",
    "import json\n",
    "# For displaying the data after\n",
    "import pandas as pd\n",
    "# For saving the response data in CSV format\n",
    "import csv\n",
    "# Twitter official API\n",
    "import tweepy"
   ]
  },
  {
   "cell_type": "code",
   "execution_count": 6,
   "id": "e30c950e",
   "metadata": {},
   "outputs": [],
   "source": [
    "def twitter_api():\n",
    "    consumer_key = '0cLmjsfK7nSq3QL16xpt4b0wF'\n",
    "    consumer_secret = 'fjs6WKLAUFM025HGXgw0cQs0sYEK2qEAZ86f8LKSIoKvc3coq2'\n",
    "    access_token = '185253926-2P6tsUXTt6YaXHgXGkOmWHafo8256JTNPA8bmoMG'\n",
    "    access_secret = 'Zd6Gifn7e2QivzgrvFUTFq7V8wXDjcLkM7RiETEthnshP'\n",
    "    auth = tweepy.OAuthHandler(consumer_key, consumer_secret)\n",
    "    auth.set_access_token(access_token, access_secret)\n",
    "    api = tweepy.API(auth)\n",
    "    return api\n",
    "api = twitter_api()"
   ]
  },
  {
   "cell_type": "code",
   "execution_count": 23,
   "id": "fdd1a04a",
   "metadata": {},
   "outputs": [],
   "source": [
    "data = []\n",
    "df = pd.read_csv('./user.csv')\n",
    "list_id = df['id']\n",
    "list_location = df['location']\n",
    "for (i,user_id) in enumerate(list_id[0:2]): # Change this to whole_list, after shortlisting the location we want to concentrate\n",
    "    tweet_list = ''\n",
    "    results = api.user_timeline(user_id=user_id, count=50)\n",
    "    for result in results:\n",
    "        tweet_list += (result.text + ' ||| ')\n",
    "    tweet_list = tweet_list[:-5]\n",
    "    obj = {\n",
    "        \"id\": user_id,\n",
    "        \"location\": list_location[i],\n",
    "        \"tweets\": tweet_list\n",
    "    }\n",
    "    data.append(obj)\n",
    "    \n",
    "df_data = pd.DataFrame(data)\n",
    "df_data.to_csv('./user-tweets.csv', mode = 'a', index=False)"
   ]
  },
  {
   "cell_type": "code",
   "execution_count": null,
   "id": "9715b91a",
   "metadata": {},
   "outputs": [],
   "source": []
  }
 ],
 "metadata": {
  "kernelspec": {
   "display_name": "Python 3 (ipykernel)",
   "language": "python",
   "name": "python3"
  },
  "language_info": {
   "codemirror_mode": {
    "name": "ipython",
    "version": 3
   },
   "file_extension": ".py",
   "mimetype": "text/x-python",
   "name": "python",
   "nbconvert_exporter": "python",
   "pygments_lexer": "ipython3",
   "version": "3.9.7"
  }
 },
 "nbformat": 4,
 "nbformat_minor": 5
}
